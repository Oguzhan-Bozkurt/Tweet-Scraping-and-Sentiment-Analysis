{
 "cells": [
  {
   "cell_type": "code",
   "execution_count": 7,
   "id": "94b17f54",
   "metadata": {},
   "outputs": [],
   "source": [
    "from warnings import filterwarnings\n",
    "import pandas as pd\n",
    "import tweepy, codecs\n",
    "filterwarnings('ignore')"
   ]
  },
  {
   "cell_type": "code",
   "execution_count": 8,
   "id": "2c71ee65",
   "metadata": {},
   "outputs": [],
   "source": [
    "consumer_key = 'bIQ3GqTGdNIS9qtYATf1f2kw3'\n",
    "consumer_secret = 'HuF1e9E6CRT1QmvOml3Os3cUnX3FxSbSzkweMM6nztdGGprU26'\n",
    "access_token = '100390695-WeMfH504k2zeXyozN3EAqpM93Qxjts6sfF3BKjkh'\n",
    "access_token_secret = 'VfGMaqkkRbtUhNmmuYr55MZTtwgOPtNuyB5OVhO0gbIss'\n",
    "auth = tweepy.OAuthHandler(consumer_key, consumer_secret)\n",
    "auth.set_access_token(access_token, access_token_secret)\n",
    "API = tweepy.API(auth)"
   ]
  },
  {
   "cell_type": "code",
   "execution_count": 9,
   "id": "be7d98d6",
   "metadata": {
    "scrolled": true
   },
   "outputs": [],
   "source": [
    "tweetler=API.search_tweets(q=\"usa\", lang=\"en\", result_type=\"recent\", count=100)"
   ]
  },
  {
   "cell_type": "code",
   "execution_count": 10,
   "id": "bf4599ea",
   "metadata": {},
   "outputs": [],
   "source": [
    "def hashtag_df(tweetler):\n",
    "    import pandas as pd\n",
    "    df = pd.DataFrame()\n",
    "    df[\"text\"] = [tweet.text for tweet in tweetler]\n",
    "    return df"
   ]
  },
  {
   "cell_type": "code",
   "execution_count": 11,
   "id": "5aba7486",
   "metadata": {},
   "outputs": [],
   "source": [
    "df = hashtag_df(tweetler)"
   ]
  },
  {
   "cell_type": "code",
   "execution_count": 9,
   "id": "7cd107aa",
   "metadata": {},
   "outputs": [
    {
     "data": {
      "text/plain": [
       "(100, 1)"
      ]
     },
     "execution_count": 9,
     "metadata": {},
     "output_type": "execute_result"
    }
   ],
   "source": [
    "df.shape"
   ]
  },
  {
   "cell_type": "code",
   "execution_count": 13,
   "id": "118aa3be",
   "metadata": {},
   "outputs": [
    {
     "data": {
      "text/html": [
       "<div>\n",
       "<style scoped>\n",
       "    .dataframe tbody tr th:only-of-type {\n",
       "        vertical-align: middle;\n",
       "    }\n",
       "\n",
       "    .dataframe tbody tr th {\n",
       "        vertical-align: top;\n",
       "    }\n",
       "\n",
       "    .dataframe thead th {\n",
       "        text-align: right;\n",
       "    }\n",
       "</style>\n",
       "<table border=\"1\" class=\"dataframe\">\n",
       "  <thead>\n",
       "    <tr style=\"text-align: right;\">\n",
       "      <th></th>\n",
       "      <th>text</th>\n",
       "    </tr>\n",
       "  </thead>\n",
       "  <tbody>\n",
       "    <tr>\n",
       "      <th>0</th>\n",
       "      <td>I just learned that my masters dissertation, (...</td>\n",
       "    </tr>\n",
       "    <tr>\n",
       "      <th>1</th>\n",
       "      <td>RT @ericnamofficial: EVERYONE PLEASE DRINK A L...</td>\n",
       "    </tr>\n",
       "    <tr>\n",
       "      <th>2</th>\n",
       "      <td>RT @vijaygajera: 2. Whenever any leader or cou...</td>\n",
       "    </tr>\n",
       "    <tr>\n",
       "      <th>3</th>\n",
       "      <td>RT @Choy1Lau: Happy Birthday Ajcharaporn and P...</td>\n",
       "    </tr>\n",
       "    <tr>\n",
       "      <th>4</th>\n",
       "      <td>@Chicago1Ray Why not (?) look at all the sex f...</td>\n",
       "    </tr>\n",
       "  </tbody>\n",
       "</table>\n",
       "</div>"
      ],
      "text/plain": [
       "                                                text\n",
       "0  I just learned that my masters dissertation, (...\n",
       "1  RT @ericnamofficial: EVERYONE PLEASE DRINK A L...\n",
       "2  RT @vijaygajera: 2. Whenever any leader or cou...\n",
       "3  RT @Choy1Lau: Happy Birthday Ajcharaporn and P...\n",
       "4  @Chicago1Ray Why not (?) look at all the sex f..."
      ]
     },
     "execution_count": 13,
     "metadata": {},
     "output_type": "execute_result"
    }
   ],
   "source": [
    "df.head()"
   ]
  },
  {
   "cell_type": "code",
   "execution_count": null,
   "id": "01b01e60",
   "metadata": {},
   "outputs": [],
   "source": []
  },
  {
   "cell_type": "code",
   "execution_count": 11,
   "id": "cfe32337",
   "metadata": {
    "scrolled": false
   },
   "outputs": [
    {
     "data": {
      "text/plain": [
       "RT @tsclub: Şampiyon Takımın Şampiyon Forması! ❤️🏆💙\\n\\nŞampiyonluk formalarımız tüm TS Club’larda ve https://t.co/9Q3k57FpKs’de!\\n\\n🔗 https://t…    12\n",
       "RT @miracturut: Daha iyisini yapana kadar en iyisi bu… Selamun aleyküm\\n•\\nSevdamız Bordo Mavi | İsmail TÜRÜT | Şampiyon Trabzonspor\\n https:/…      7\n",
       "RT @EnSuperLig: İstanbulsporlu İbrahim Yılmaz: \\n\\n\"Abdullah Avcı gençlere çok önem veren bir hoca. Bana ilk forma şansı veren hocadır. İşte…        6\n",
       "RT @_yavuzatalay: Bize Beyaz Saray’da Trabzon :) Şampiyon Heryerde @Trabzonspor https://t.co/HlNCoXFf2Y                                              6\n",
       "RT @Trabzonspor: Günaydın şampiyon takımın şampiyon taraftarları! 🏆 ❤️💙 https://t.co/itSgePJQCv                                                      5\n",
       "                                                                                                                                                    ..\n",
       "Beşiktaş şampiyon olmayacaksa Trabzonspor olsun aga benim bakış açım bu                                                                              1\n",
       "Hayatta iki tane şey istedim\\nBiri Trabzonsporun Sampiyonluğu\\nDiğeri sevdiğimle Yuva kurmak\\n38 sene sonra Trabzonspo… https://t.co/oFUCULOlRg      1\n",
       "RT @ugrmusmal: Trabzonspor BUSENE şampiyon olarak, algıları paramparça ettik.1_Trabzonspor şampiyon olamaz dediler oldu.2_Bizi şampiyon yap…         1\n",
       "Trabzonspor BUSENE şampiyon olarak, algıları paramparça ettik.1_Trabzonspor şampiyon olamaz dediler oldu.2_Bizi şam… https://t.co/ypSXpFAX2D         1\n",
       "Her yerden ambargo yiyoruz zamanında biz kotu giderken tv deki yorumcular yav ne diyelim kotu gidiyor Trabzonspor n… https://t.co/czGZn2ZJtY         1\n",
       "Name: text, Length: 62, dtype: int64"
      ]
     },
     "execution_count": 11,
     "metadata": {},
     "output_type": "execute_result"
    }
   ],
   "source": [
    "df.text.value_counts()"
   ]
  }
 ],
 "metadata": {
  "kernelspec": {
   "display_name": "Python 3 (ipykernel)",
   "language": "python",
   "name": "python3"
  },
  "language_info": {
   "codemirror_mode": {
    "name": "ipython",
    "version": 3
   },
   "file_extension": ".py",
   "mimetype": "text/x-python",
   "name": "python",
   "nbconvert_exporter": "python",
   "pygments_lexer": "ipython3",
   "version": "3.9.7"
  }
 },
 "nbformat": 4,
 "nbformat_minor": 5
}
