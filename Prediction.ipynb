{
 "cells": [
  {
   "cell_type": "code",
   "execution_count": 1,
   "id": "4d7263e6",
   "metadata": {},
   "outputs": [],
   "source": [
    "import pandas as pd\n",
    "from nltk.corpus import stopwords\n",
    "from textblob import Word\n",
    "import tweepy, pickle\n",
    "\n",
    "sw=stopwords.words(\"english\")"
   ]
  },
  {
   "cell_type": "code",
   "execution_count": 2,
   "id": "c4652ac5",
   "metadata": {},
   "outputs": [],
   "source": [
    "def data_cleaning(df,choice):\n",
    "    df = df.applymap(lambda s: s.lower() if type(s) == str else s) # Tüm metinler küçük harf formatına dönüştürülür\n",
    "    df[\"text\"]=df[\"text\"].str.replace(\"[^\\w\\s]\",\"\") # noktalama işaretlerinin silinmesi\n",
    "    df[\"text\"]=df[\"text\"].str.replace(\"\\d\",\"\") # sayıların silinmesi\n",
    "    df[\"text\"]=df[\"text\"].apply(lambda x: \" \".join(x for x in x.split() if x not in sw)) # stopwords kelimelerin silinmesi\n",
    "    if choice == 1:\n",
    "        df[\"text\"]=df[\"text\"].apply(lambda x: \" \".join(Word(i).lemmatize() for i in x.split())) # lemmatization\n",
    "    elif choice == 2:\n",
    "        df[\"text\"]=df[\"text\"].apply(lambda x: \" \".join(Word(i).stem() for i in x.split())) # stemming\n",
    "    return df['text']"
   ]
  },
  {
   "cell_type": "code",
   "execution_count": 3,
   "id": "1e97f409",
   "metadata": {},
   "outputs": [],
   "source": [
    "def data_cleaning_text(text,choice):\n",
    "    text=re.sub(r'[^\\w\\s]', '', text)\n",
    "    text=re.sub(r'[0-9]+', '', text)\n",
    "    text=' '.join(x for x in text.split() if x not in sw)\n",
    "    if choice == 1:\n",
    "        text = \" \".join(Word(i).lemmatize() for i in text.split())\n",
    "    elif choice == 2:\n",
    "        text = \" \".join(Word(i).stem() for i in text.split())\n",
    "    return text.lower()"
   ]
  },
  {
   "cell_type": "code",
   "execution_count": 18,
   "id": "0385f3ef",
   "metadata": {},
   "outputs": [],
   "source": [
    "def hashtag_df(key, count):\n",
    "    consumer_key = 'CONSUMER'\n",
    "    consumer_secret = 'CONSUMER_SECRET'\n",
    "    access_token = 'TOKEN'\n",
    "    access_token_secret = 'TOKEN_SECRET'\n",
    "    auth = tweepy.OAuthHandler(consumer_key, consumer_secret)\n",
    "    auth.set_access_token(access_token, access_token_secret)\n",
    "    API = tweepy.API(auth)\n",
    "    tweetler=API.search_tweets(q=key, lang=\"en\", result_type=\"mixed\", count=count)\n",
    "    df = pd.DataFrame()\n",
    "    df[\"text\"] = [tweet.text for tweet in tweetler]\n",
    "    return df"
   ]
  },
  {
   "cell_type": "code",
   "execution_count": 27,
   "id": "164d3a1e",
   "metadata": {},
   "outputs": [
    {
     "name": "stdout",
     "output_type": "stream",
     "text": [
      "Input a key:yemeksepeti\n"
     ]
    }
   ],
   "source": [
    "key = input('Input a key:')"
   ]
  },
  {
   "cell_type": "code",
   "execution_count": 28,
   "id": "8f7e60f2",
   "metadata": {},
   "outputs": [
    {
     "name": "stdout",
     "output_type": "stream",
     "text": [
      "Input a count value:100\n"
     ]
    }
   ],
   "source": [
    "count = input('Input a count value:')"
   ]
  },
  {
   "cell_type": "code",
   "execution_count": 29,
   "id": "72323018",
   "metadata": {},
   "outputs": [],
   "source": [
    "df = hashtag_df(key, count)"
   ]
  },
  {
   "cell_type": "code",
   "execution_count": 30,
   "id": "26fcf173",
   "metadata": {},
   "outputs": [
    {
     "data": {
      "text/html": [
       "<div>\n",
       "<style scoped>\n",
       "    .dataframe tbody tr th:only-of-type {\n",
       "        vertical-align: middle;\n",
       "    }\n",
       "\n",
       "    .dataframe tbody tr th {\n",
       "        vertical-align: top;\n",
       "    }\n",
       "\n",
       "    .dataframe thead th {\n",
       "        text-align: right;\n",
       "    }\n",
       "</style>\n",
       "<table border=\"1\" class=\"dataframe\">\n",
       "  <thead>\n",
       "    <tr style=\"text-align: right;\">\n",
       "      <th></th>\n",
       "      <th>text</th>\n",
       "    </tr>\n",
       "  </thead>\n",
       "  <tbody>\n",
       "    <tr>\n",
       "      <th>0</th>\n",
       "      <td>🇫🇷 Fransa tarihinin en golcü oyuncusu kimdir, ...</td>\n",
       "    </tr>\n",
       "    <tr>\n",
       "      <th>1</th>\n",
       "      <td>🔥 İngiltere-Fransa maçı kaç kaç biter?\\n\\n🎉 Do...</td>\n",
       "    </tr>\n",
       "    <tr>\n",
       "      <th>2</th>\n",
       "      <td>Yemeksepeti’nin kurucusu Nevzat Aydın’ın forma...</td>\n",
       "    </tr>\n",
       "    <tr>\n",
       "      <th>3</th>\n",
       "      <td>@TheGokturkFB @EnSuperLig @yemeksepeti Fenerba...</td>\n",
       "    </tr>\n",
       "    <tr>\n",
       "      <th>4</th>\n",
       "      <td>@yemeksepeti Sipariş tarihini bilerek mi sildi...</td>\n",
       "    </tr>\n",
       "    <tr>\n",
       "      <th>...</th>\n",
       "      <td>...</td>\n",
       "    </tr>\n",
       "    <tr>\n",
       "      <th>95</th>\n",
       "      <td>✅ Messi yanıtını vererek @yemeksepeti'nden 100...</td>\n",
       "    </tr>\n",
       "    <tr>\n",
       "      <th>96</th>\n",
       "      <td>✅ Ronaldo yanıtını vererek @yemeksepeti'nden 1...</td>\n",
       "    </tr>\n",
       "    <tr>\n",
       "      <th>97</th>\n",
       "      <td>@yemeksepeti bir sipariş 1,5 saatte nasıl gelm...</td>\n",
       "    </tr>\n",
       "    <tr>\n",
       "      <th>98</th>\n",
       "      <td>@EnSuperLig @yemeksepeti Bu erden timur agladi...</td>\n",
       "    </tr>\n",
       "    <tr>\n",
       "      <th>99</th>\n",
       "      <td>Nefes kesen bir mücadelenin ardından Take Risk...</td>\n",
       "    </tr>\n",
       "  </tbody>\n",
       "</table>\n",
       "<p>100 rows × 1 columns</p>\n",
       "</div>"
      ],
      "text/plain": [
       "                                                 text\n",
       "0   🇫🇷 Fransa tarihinin en golcü oyuncusu kimdir, ...\n",
       "1   🔥 İngiltere-Fransa maçı kaç kaç biter?\\n\\n🎉 Do...\n",
       "2   Yemeksepeti’nin kurucusu Nevzat Aydın’ın forma...\n",
       "3   @TheGokturkFB @EnSuperLig @yemeksepeti Fenerba...\n",
       "4   @yemeksepeti Sipariş tarihini bilerek mi sildi...\n",
       "..                                                ...\n",
       "95  ✅ Messi yanıtını vererek @yemeksepeti'nden 100...\n",
       "96  ✅ Ronaldo yanıtını vererek @yemeksepeti'nden 1...\n",
       "97  @yemeksepeti bir sipariş 1,5 saatte nasıl gelm...\n",
       "98  @EnSuperLig @yemeksepeti Bu erden timur agladi...\n",
       "99  Nefes kesen bir mücadelenin ardından Take Risk...\n",
       "\n",
       "[100 rows x 1 columns]"
      ]
     },
     "execution_count": 30,
     "metadata": {},
     "output_type": "execute_result"
    }
   ],
   "source": [
    "df"
   ]
  },
  {
   "cell_type": "code",
   "execution_count": 9,
   "id": "956eadd0",
   "metadata": {},
   "outputs": [
    {
     "name": "stderr",
     "output_type": "stream",
     "text": [
      "C:\\Users\\OUZHAN~1\\AppData\\Local\\Temp/ipykernel_5884/2298853171.py:3: FutureWarning: The default value of regex will change from True to False in a future version.\n",
      "  df[\"text\"]=df[\"text\"].str.replace(\"[^\\w\\s]\",\"\") # noktalama işaretlerinin silinmesi\n",
      "C:\\Users\\OUZHAN~1\\AppData\\Local\\Temp/ipykernel_5884/2298853171.py:4: FutureWarning: The default value of regex will change from True to False in a future version.\n",
      "  df[\"text\"]=df[\"text\"].str.replace(\"\\d\",\"\") # sayıların silinmesi\n"
     ]
    }
   ],
   "source": [
    "df.text = data_cleaning(df,1)"
   ]
  },
  {
   "cell_type": "code",
   "execution_count": 10,
   "id": "7cf42416",
   "metadata": {},
   "outputs": [],
   "source": [
    "linear = pickle.load(open('logistic.sav', 'rb'))\n",
    "ridge = pickle.load(open('ridge.sav', 'rb'))\n",
    "perceptron = pickle.load(open('perceptron.sav', 'rb'))\n",
    "xgb = pickle.load(open('xgb.sav', 'rb'))\n",
    "lgbm = pickle.load(open('lgbm.sav', 'rb'))\n",
    "vectorizer = pickle.load(open('tfidf_vectorizer.sav', 'rb'))"
   ]
  },
  {
   "cell_type": "code",
   "execution_count": 23,
   "id": "a608e784",
   "metadata": {},
   "outputs": [],
   "source": [
    "test_data = vectorizer.transform(df.text)"
   ]
  },
  {
   "cell_type": "code",
   "execution_count": 24,
   "id": "f2a15b3c",
   "metadata": {},
   "outputs": [
    {
     "name": "stdout",
     "output_type": "stream",
     "text": [
      "Logistic Regression Classifier Prediction: [0 1 2 1 1 1 0 1 0 1 1 2 2 0 1 1 1 0 0 1 0 1 1 0 1 1 2 1 0 1 1 2 2 1 1 1 1\n",
      " 0 0 0 0 1 1 1 1 1 0 1 0 1 0 0 1 1 0 0 0 0 1 1 1 0 0 1 1 2 1 1 1 1 0 0 0 1\n",
      " 2 2 1 0 0 1 0 0 1 0 0 1 1 0 1 0 1 0 0 0 0 1 0 1 2 0]\n",
      "Ridge Classifier Prediction: [0 1 2 1 1 1 0 1 1 1 1 2 2 0 1 1 1 0 0 1 0 1 1 0 0 1 2 1 0 1 1 2 2 1 1 1 1\n",
      " 0 0 0 0 1 1 1 1 1 1 1 0 1 0 0 1 0 0 0 0 0 1 1 1 0 0 1 0 2 1 1 1 1 0 0 0 1\n",
      " 2 2 1 0 0 1 1 1 0 0 0 1 1 0 1 0 1 0 0 0 0 1 0 1 2 0]\n",
      "Perceptron Classifier Prediction: [0 1 2 1 1 1 0 2 0 1 1 2 2 0 0 2 1 0 0 0 0 1 1 0 1 1 2 0 0 1 1 2 2 1 1 1 1\n",
      " 0 0 0 0 1 2 1 1 1 2 0 0 0 0 0 0 2 2 0 2 2 0 0 1 0 0 1 0 2 0 0 0 1 2 0 0 1\n",
      " 2 2 1 0 0 0 0 0 0 0 2 0 0 0 1 0 1 0 0 2 0 0 0 0 2 0]\n",
      "XGBoost Classifier Prediction: [0 0 2 1 1 1 0 0 0 1 1 0 0 0 0 0 1 0 0 0 0 1 1 0 0 1 2 0 0 1 0 2 2 0 0 1 1\n",
      " 0 0 0 0 0 1 1 1 1 0 0 0 0 0 0 0 0 0 0 0 0 0 0 1 0 0 1 0 2 0 0 0 1 0 0 0 1\n",
      " 2 2 0 0 0 0 0 0 0 0 0 0 0 0 0 0 1 0 0 0 0 0 0 0 2 0]\n",
      "LightGBM Classifier Prediction: [0 0 2 1 1 1 0 0 0 1 1 2 0 0 0 2 1 0 0 0 0 1 1 0 0 1 2 0 0 1 0 2 2 0 1 1 1\n",
      " 0 0 0 0 0 1 1 1 1 0 0 0 0 0 0 0 0 0 0 0 0 0 0 1 0 0 1 0 2 0 0 0 1 0 0 0 1\n",
      " 2 2 0 0 0 0 0 0 0 0 0 0 0 0 1 0 1 0 0 0 0 0 0 0 2 0]\n"
     ]
    }
   ],
   "source": [
    "print('Logistic Regression Classifier Prediction:',linear.predict(test_data))\n",
    "print('Ridge Classifier Prediction:',ridge.predict(test_data))\n",
    "print('Perceptron Classifier Prediction:',perceptron.predict(test_data))\n",
    "print('XGBoost Classifier Prediction:',xgb.predict(test_data))\n",
    "print('LightGBM Classifier Prediction:',lgbm.predict(test_data))"
   ]
  },
  {
   "cell_type": "code",
   "execution_count": null,
   "id": "988dc964",
   "metadata": {},
   "outputs": [],
   "source": []
  }
 ],
 "metadata": {
  "kernelspec": {
   "display_name": "Python 3 (ipykernel)",
   "language": "python",
   "name": "python3"
  },
  "language_info": {
   "codemirror_mode": {
    "name": "ipython",
    "version": 3
   },
   "file_extension": ".py",
   "mimetype": "text/x-python",
   "name": "python",
   "nbconvert_exporter": "python",
   "pygments_lexer": "ipython3",
   "version": "3.9.13"
  }
 },
 "nbformat": 4,
 "nbformat_minor": 5
}
