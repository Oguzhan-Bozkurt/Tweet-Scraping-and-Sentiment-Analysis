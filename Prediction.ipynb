{
 "cells": [
  {
   "cell_type": "code",
   "execution_count": 1,
   "id": "4d7263e6",
   "metadata": {},
   "outputs": [],
   "source": [
    "import pandas as pd\n",
    "from nltk.corpus import stopwords\n",
    "from textblob import Word\n",
    "\n",
    "sw=stopwords.words(\"english\")"
   ]
  },
  {
   "cell_type": "code",
   "execution_count": 2,
   "id": "c4652ac5",
   "metadata": {},
   "outputs": [],
   "source": [
    "def data_cleaning(df,choice):\n",
    "    df = df.applymap(lambda s: s.lower() if type(s) == str else s) # Tüm metinler küçük harf formatına dönüştürülür\n",
    "    df[\"text\"]=df[\"text\"].str.replace(\"[^\\w\\s]\",\"\") # noktalama işaretlerinin silinmesi\n",
    "    df[\"text\"]=df[\"text\"].str.replace(\"\\d\",\"\") # sayıların silinmesi\n",
    "    df[\"text\"]=df[\"text\"].apply(lambda x: \" \".join(x for x in x.split() if x not in sw)) # stopwords kelimelerin silinmesi\n",
    "    if choice == 1:\n",
    "        df[\"text\"]=df[\"text\"].apply(lambda x: \" \".join(Word(i).lemmatize() for i in x.split())) # lemmatization\n",
    "    elif choice == 2:\n",
    "        df[\"text\"]=df[\"text\"].apply(lambda x: \" \".join(Word(i).stem() for i in x.split())) # stemming\n",
    "    return df['text']"
   ]
  },
  {
   "cell_type": "code",
   "execution_count": 13,
   "id": "1e97f409",
   "metadata": {},
   "outputs": [],
   "source": [
    "def data_cleaning_text(text,choice):\n",
    "    text=re.sub(r'[^\\w\\s]', '', text)\n",
    "    text=re.sub(r'[0-9]+', '', text)\n",
    "    text=' '.join(x for x in text.split() if x not in sw)\n",
    "    if choice == 1:\n",
    "        text = \" \".join(Word(i).lemmatize() for i in text.split())\n",
    "    elif choice == 2:\n",
    "        text = \" \".join(Word(i).stem() for i in text.split())\n",
    "    return text.lower()"
   ]
  },
  {
   "cell_type": "code",
   "execution_count": 14,
   "id": "0385f3ef",
   "metadata": {},
   "outputs": [],
   "source": [
    "def hashtag_df(key, count):\n",
    "    consumer_key = 'bIQ3GqTGdNIS9qtYATf1f2kw3'\n",
    "    consumer_secret = 'HuF1e9E6CRT1QmvOml3Os3cUnX3FxSbSzkweMM6nztdGGprU26'\n",
    "    access_token = '100390695-WeMfH504k2zeXyozN3EAqpM93Qxjts6sfF3BKjkh'\n",
    "    access_token_secret = 'VfGMaqkkRbtUhNmmuYr55MZTtwgOPtNuyB5OVhO0gbIss'\n",
    "    auth = tweepy.OAuthHandler(consumer_key, consumer_secret)\n",
    "    auth.set_access_token(access_token, access_token_secret)\n",
    "    API = tweepy.API(auth)\n",
    "    tweetler=API.search_tweets(q=key, lang=\"en\", result_type=\"recent\", count=count)\n",
    "    df = pd.DataFrame()\n",
    "    df[\"text\"] = [tweet.text for tweet in tweetler]\n",
    "    return df"
   ]
  },
  {
   "cell_type": "code",
   "execution_count": 15,
   "id": "164d3a1e",
   "metadata": {},
   "outputs": [
    {
     "name": "stdout",
     "output_type": "stream",
     "text": [
      "Input a key:usa\n"
     ]
    }
   ],
   "source": [
    "key = input('Input a key:')"
   ]
  },
  {
   "cell_type": "code",
   "execution_count": 16,
   "id": "8f7e60f2",
   "metadata": {},
   "outputs": [
    {
     "name": "stdout",
     "output_type": "stream",
     "text": [
      "Input a count value:5\n"
     ]
    }
   ],
   "source": [
    "count = input('Input a count value:')"
   ]
  },
  {
   "cell_type": "code",
   "execution_count": 17,
   "id": "72323018",
   "metadata": {},
   "outputs": [],
   "source": [
    "df = hashtag_df(key, count)"
   ]
  },
  {
   "cell_type": "code",
   "execution_count": 19,
   "id": "26fcf173",
   "metadata": {},
   "outputs": [
    {
     "data": {
      "text/html": [
       "<div>\n",
       "<style scoped>\n",
       "    .dataframe tbody tr th:only-of-type {\n",
       "        vertical-align: middle;\n",
       "    }\n",
       "\n",
       "    .dataframe tbody tr th {\n",
       "        vertical-align: top;\n",
       "    }\n",
       "\n",
       "    .dataframe thead th {\n",
       "        text-align: right;\n",
       "    }\n",
       "</style>\n",
       "<table border=\"1\" class=\"dataframe\">\n",
       "  <thead>\n",
       "    <tr style=\"text-align: right;\">\n",
       "      <th></th>\n",
       "      <th>text</th>\n",
       "    </tr>\n",
       "  </thead>\n",
       "  <tbody>\n",
       "    <tr>\n",
       "      <th>0</th>\n",
       "      <td>RT @1965Magnolia: Supporting from the USA! Whe...</td>\n",
       "    </tr>\n",
       "    <tr>\n",
       "      <th>1</th>\n",
       "      <td>RT @vijaygajera: Extremely important thread\\n\\...</td>\n",
       "    </tr>\n",
       "    <tr>\n",
       "      <th>2</th>\n",
       "      <td>@btschartdata @BTS_twt I'm so inlove with #Yet...</td>\n",
       "    </tr>\n",
       "    <tr>\n",
       "      <th>3</th>\n",
       "      <td>RT @vijaygajera: Extremely important thread\\n\\...</td>\n",
       "    </tr>\n",
       "    <tr>\n",
       "      <th>4</th>\n",
       "      <td>RT @gigticket: Last shout for any suggestions ...</td>\n",
       "    </tr>\n",
       "  </tbody>\n",
       "</table>\n",
       "</div>"
      ],
      "text/plain": [
       "                                                text\n",
       "0  RT @1965Magnolia: Supporting from the USA! Whe...\n",
       "1  RT @vijaygajera: Extremely important thread\\n\\...\n",
       "2  @btschartdata @BTS_twt I'm so inlove with #Yet...\n",
       "3  RT @vijaygajera: Extremely important thread\\n\\...\n",
       "4  RT @gigticket: Last shout for any suggestions ..."
      ]
     },
     "execution_count": 19,
     "metadata": {},
     "output_type": "execute_result"
    }
   ],
   "source": [
    "df"
   ]
  },
  {
   "cell_type": "code",
   "execution_count": 20,
   "id": "956eadd0",
   "metadata": {},
   "outputs": [
    {
     "name": "stderr",
     "output_type": "stream",
     "text": [
      "C:\\Users\\OUZHAN~1\\AppData\\Local\\Temp/ipykernel_1700/2298853171.py:3: FutureWarning: The default value of regex will change from True to False in a future version.\n",
      "  df[\"text\"]=df[\"text\"].str.replace(\"[^\\w\\s]\",\"\") # noktalama işaretlerinin silinmesi\n",
      "C:\\Users\\OUZHAN~1\\AppData\\Local\\Temp/ipykernel_1700/2298853171.py:4: FutureWarning: The default value of regex will change from True to False in a future version.\n",
      "  df[\"text\"]=df[\"text\"].str.replace(\"\\d\",\"\") # sayıların silinmesi\n"
     ]
    }
   ],
   "source": [
    "df.text = data_cleaning(df,1)"
   ]
  },
  {
   "cell_type": "code",
   "execution_count": 21,
   "id": "24da3321",
   "metadata": {},
   "outputs": [
    {
     "data": {
      "text/html": [
       "<div>\n",
       "<style scoped>\n",
       "    .dataframe tbody tr th:only-of-type {\n",
       "        vertical-align: middle;\n",
       "    }\n",
       "\n",
       "    .dataframe tbody tr th {\n",
       "        vertical-align: top;\n",
       "    }\n",
       "\n",
       "    .dataframe thead th {\n",
       "        text-align: right;\n",
       "    }\n",
       "</style>\n",
       "<table border=\"1\" class=\"dataframe\">\n",
       "  <thead>\n",
       "    <tr style=\"text-align: right;\">\n",
       "      <th></th>\n",
       "      <th>text</th>\n",
       "    </tr>\n",
       "  </thead>\n",
       "  <tbody>\n",
       "    <tr>\n",
       "      <th>0</th>\n",
       "      <td>rt magnolia supporting usa supporting dgcelebs...</td>\n",
       "    </tr>\n",
       "    <tr>\n",
       "      <th>1</th>\n",
       "      <td>rt vijaygajera extremely important thread coun...</td>\n",
       "    </tr>\n",
       "    <tr>\n",
       "      <th>2</th>\n",
       "      <td>btschartdata bts_twt im inlove yettocome bts a...</td>\n",
       "    </tr>\n",
       "    <tr>\n",
       "      <th>3</th>\n",
       "      <td>rt vijaygajera extremely important thread coun...</td>\n",
       "    </tr>\n",
       "    <tr>\n",
       "      <th>4</th>\n",
       "      <td>rt gigticket last shout suggestion afternoon c...</td>\n",
       "    </tr>\n",
       "  </tbody>\n",
       "</table>\n",
       "</div>"
      ],
      "text/plain": [
       "                                                text\n",
       "0  rt magnolia supporting usa supporting dgcelebs...\n",
       "1  rt vijaygajera extremely important thread coun...\n",
       "2  btschartdata bts_twt im inlove yettocome bts a...\n",
       "3  rt vijaygajera extremely important thread coun...\n",
       "4  rt gigticket last shout suggestion afternoon c..."
      ]
     },
     "execution_count": 21,
     "metadata": {},
     "output_type": "execute_result"
    }
   ],
   "source": [
    "df.head()"
   ]
  },
  {
   "cell_type": "code",
   "execution_count": 22,
   "id": "7cf42416",
   "metadata": {},
   "outputs": [],
   "source": [
    "linear = pickle.load(open('linear_model.sav', 'rb'))\n",
    "ridge = pickle.load(open('ridge_model.sav', 'rb'))\n",
    "perceptron = pickle.load(open('perceptron_model.sav', 'rb'))\n",
    "xgb = pickle.load(open('xgb_model.sav', 'rb'))\n",
    "lgbm = pickle.load(open('lgbm_model.sav', 'rb'))\n",
    "vectorizer = pickle.load(open('tfidf_vectorizer.sav', 'rb'))"
   ]
  },
  {
   "cell_type": "code",
   "execution_count": 23,
   "id": "a608e784",
   "metadata": {},
   "outputs": [],
   "source": [
    "test_data = vectorizer.transform(df.text)"
   ]
  },
  {
   "cell_type": "code",
   "execution_count": 27,
   "id": "f2a15b3c",
   "metadata": {},
   "outputs": [
    {
     "name": "stdout",
     "output_type": "stream",
     "text": [
      "Logistic Regression Classifier Prediction: [1 1 0 1 0]\n",
      "Ridge Classifier Prediction: [1 1 0 1 0]\n",
      "Perceptron Classifier Prediction: [1 2 0 2 0]\n",
      "XGBoost Classifier Prediction: [1 1 0 1 0]\n",
      "LightGBM Classifier Prediction: [1 1 0 1 0]\n"
     ]
    }
   ],
   "source": [
    "print('Logistic Regression Classifier Prediction:',linear.predict(test_data))\n",
    "print('Ridge Classifier Prediction:',ridge.predict(test_data))\n",
    "print('Perceptron Classifier Prediction:',perceptron.predict(test_data))\n",
    "print('XGBoost Classifier Prediction:',xgb.predict(test_data))\n",
    "print('LightGBM Classifier Prediction:',lgbm.predict(test_data))"
   ]
  }
 ],
 "metadata": {
  "kernelspec": {
   "display_name": "Python 3 (ipykernel)",
   "language": "python",
   "name": "python3"
  },
  "language_info": {
   "codemirror_mode": {
    "name": "ipython",
    "version": 3
   },
   "file_extension": ".py",
   "mimetype": "text/x-python",
   "name": "python",
   "nbconvert_exporter": "python",
   "pygments_lexer": "ipython3",
   "version": "3.9.7"
  }
 },
 "nbformat": 4,
 "nbformat_minor": 5
}
